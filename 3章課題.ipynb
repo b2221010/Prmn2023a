{
  "nbformat": 4,
  "nbformat_minor": 0,
  "metadata": {
    "colab": {
      "provenance": [],
      "authorship_tag": "ABX9TyOoD98ZGPbOXhACuitsViLM",
      "include_colab_link": true
    },
    "kernelspec": {
      "name": "python3",
      "display_name": "Python 3"
    },
    "language_info": {
      "name": "python"
    }
  },
  "cells": [
    {
      "cell_type": "markdown",
      "metadata": {
        "id": "view-in-github",
        "colab_type": "text"
      },
      "source": [
        "<a href=\"https://colab.research.google.com/github/b2221010/Prmn2023a/blob/main/3%E7%AB%A0%E8%AA%B2%E9%A1%8C.ipynb\" target=\"_parent\"><img src=\"https://colab.research.google.com/assets/colab-badge.svg\" alt=\"Open In Colab\"/></a>"
      ]
    },
    {
      "cell_type": "markdown",
      "source": [
        "課題1"
      ],
      "metadata": {
        "id": "UMQRMUStfzK2"
      }
    },
    {
      "cell_type": "code",
      "execution_count": 2,
      "metadata": {
        "colab": {
          "base_uri": "https://localhost:8080/"
        },
        "id": "7evtZkkRfOLr",
        "outputId": "db282dc6-0a5f-47e7-9ae3-64bebdf63558"
      },
      "outputs": [
        {
          "output_type": "stream",
          "name": "stdout",
          "text": [
            "時間を指定してください\n",
            "3\n",
            "おはよう\n"
          ]
        }
      ],
      "source": [
        "print('時間を指定してください')\n",
        "n=int(input())\n",
        "if 3<=n and n<=9:\n",
        "  print ('おはよう')\n",
        "elif 10<=n and n<=17:\n",
        "  print ('こんにちは')\n",
        "elif 18<=n and n<=21:\n",
        "  print('こんばんは')\n",
        "else:\n",
        "  print('おやすみ')"
      ]
    },
    {
      "cell_type": "markdown",
      "source": [
        "課題2"
      ],
      "metadata": {
        "id": "QQYZDitaf3NW"
      }
    },
    {
      "cell_type": "code",
      "source": [
        "print('何月ですか？')\n",
        "n=int(input())\n",
        "if 3<=n and n<=5:\n",
        "  print ('春です')\n",
        "elif 6<=n and n<=8:\n",
        "  print ('夏です')\n",
        "elif 9<=n and n<=11:\n",
        "  print('秋です')\n",
        "else:\n",
        "  print('冬です')"
      ],
      "metadata": {
        "colab": {
          "base_uri": "https://localhost:8080/"
        },
        "id": "DEm-2lmNf5Bf",
        "outputId": "de036f4b-0d7f-479e-bcf7-507c9af96572"
      },
      "execution_count": 28,
      "outputs": [
        {
          "output_type": "stream",
          "name": "stdout",
          "text": [
            "何月ですか？\n",
            "12\n",
            "冬です\n"
          ]
        }
      ]
    },
    {
      "cell_type": "markdown",
      "source": [
        "課題3"
      ],
      "metadata": {
        "id": "grdiy6ikgeIT"
      }
    },
    {
      "cell_type": "code",
      "source": [
        "import datetime\n",
        "\n",
        "print('生年月日を西暦で入力してください')\n",
        "print('誕生年は？')\n",
        "birth_year = int(input())\n",
        "print('誕生月は？')\n",
        "birth_month = int(input())\n",
        "print('誕生日は？')\n",
        "birth_day = int(input())\n",
        "\n",
        "a=datetime.date.today()\n",
        "b=a.year\n",
        "\n",
        "if a.month > birth_month:\n",
        "  print(b-birth_year,'歳')\n",
        "elif a.month == birth_month:\n",
        "  if a.day >= birth_day:\n",
        "    print(b-birth_year,'歳')\n",
        "  else:\n",
        "    print(b-birth_year-1,'歳')\n",
        "elif a.month < birth_month:\n",
        "  print(b-birth_year-1,'歳')\n"
      ],
      "metadata": {
        "colab": {
          "base_uri": "https://localhost:8080/"
        },
        "id": "zW9sCa21giK1",
        "outputId": "1f50a2e1-c90c-49ef-c901-86b04149846b"
      },
      "execution_count": 29,
      "outputs": [
        {
          "output_type": "stream",
          "name": "stdout",
          "text": [
            "生年月日を入力してください\n",
            "誕生年は？\n",
            "2004\n",
            "誕生月は？\n",
            "1\n",
            "誕生日は？\n",
            "28\n",
            "19 歳\n"
          ]
        }
      ]
    },
    {
      "cell_type": "code",
      "source": [
        "import datetime\n",
        "\n",
        "print('生年月日を西暦で入力してください')\n",
        "print('誕生年は？')\n",
        "birth_year = int(input())\n",
        "print('誕生月は？')\n",
        "birth_month = int(input())\n",
        "print('誕生日は？')\n",
        "birth_day = int(input())\n",
        "\n",
        "a=datetime.date.today()\n",
        "b=a.year\n",
        "\n",
        "if a.month > birth_month:\n",
        "  c=b-birth_year\n",
        "elif a.month == birth_month:\n",
        "  if a.day >= birth_day:\n",
        "    c=b-birth_year\n",
        "  else:\n",
        "    c=b-birth_year-1\n",
        "elif a.month < birth_month:\n",
        "  c=b-birth_year-1\n",
        "\n",
        "print('あなたの年齢は',c,'歳です')"
      ],
      "metadata": {
        "colab": {
          "base_uri": "https://localhost:8080/"
        },
        "id": "T32eKCinrc74",
        "outputId": "ed70a8c9-02f5-414b-9aee-dd3204ade35b"
      },
      "execution_count": 1,
      "outputs": [
        {
          "output_type": "stream",
          "name": "stdout",
          "text": [
            "生年月日を西暦で入力してください\n",
            "誕生年は？\n",
            "1992\n",
            "誕生月は？\n",
            "10\n",
            "誕生日は？\n",
            "1\n",
            "あなたの年齢は 30 歳です\n"
          ]
        }
      ]
    },
    {
      "cell_type": "code",
      "source": [],
      "metadata": {
        "id": "HoIQtEKi3Cyo"
      },
      "execution_count": null,
      "outputs": []
    }
  ]
}