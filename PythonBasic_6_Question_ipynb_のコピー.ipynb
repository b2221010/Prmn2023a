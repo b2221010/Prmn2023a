{
  "nbformat": 4,
  "nbformat_minor": 0,
  "metadata": {
    "colab": {
      "provenance": [],
      "include_colab_link": true
    },
    "kernelspec": {
      "name": "python3",
      "display_name": "Python 3"
    },
    "language_info": {
      "name": "python"
    }
  },
  "cells": [
    {
      "cell_type": "markdown",
      "metadata": {
        "id": "view-in-github",
        "colab_type": "text"
      },
      "source": [
        "<a href=\"https://colab.research.google.com/github/b2221010/Prmn2023a/blob/main/PythonBasic_6_Question_ipynb_%E3%81%AE%E3%82%B3%E3%83%94%E3%83%BC.ipynb\" target=\"_parent\"><img src=\"https://colab.research.google.com/assets/colab-badge.svg\" alt=\"Open In Colab\"/></a>"
      ]
    },
    {
      "cell_type": "markdown",
      "source": [
        "<a href=\"https://colab.research.google.com/github/kiryu-3/Prmn2023/blob/main/Python/Python_Basic/question/PythonBasic_6_Question.ipynb\" target=\"_parent\"><img src=\"https://colab.research.google.com/assets/colab-badge.svg\" alt=\"Open In Colab\"/></a>"
      ],
      "metadata": {
        "id": "TA5kKi-LY1xg"
      }
    },
    {
      "cell_type": "markdown",
      "source": [
        "# 第6章 課題"
      ],
      "metadata": {
        "id": "r-kcfL2yEU8b"
      }
    },
    {
      "cell_type": "markdown",
      "source": [
        "## 課題1"
      ],
      "metadata": {
        "id": "UqgRlaNaaWsU"
      }
    },
    {
      "cell_type": "markdown",
      "source": [
        "こちらはピコ太郎さんの「PPAP」という歌の歌詞です"
      ],
      "metadata": {
        "id": "3iPqvgvTmxUd"
      }
    },
    {
      "cell_type": "code",
      "execution_count": null,
      "metadata": {
        "id": "gr4NZhjKSoPt"
      },
      "outputs": [],
      "source": [
        "text = \"\"\"PPAP\n",
        "I have a pen.\n",
        "I have an apple.\n",
        "Apple pen！\n",
        "I have a pen.\n",
        "I have a pineapple.\n",
        "Pineapple pen！\n",
        "Apple pen.\n",
        "Pineapple pen.\n",
        "Pen-pineapple-Apple-pen！\"\"\""
      ]
    },
    {
      "cell_type": "markdown",
      "source": [
        "上の文字列の単語の登場回数を数え、\n",
        "出現回数の多い順にソートしたディクショナリを関数で返してください\n",
        "\n",
        "その後、そのディクショナリを出力してください"
      ],
      "metadata": {
        "id": "DuphFapxhvik"
      }
    },
    {
      "cell_type": "markdown",
      "source": [
        "大文字小文字が混ざっていますが、全て小文字に変換してください"
      ],
      "metadata": {
        "id": "MR5bMn1d0X_3"
      }
    },
    {
      "cell_type": "markdown",
      "source": [
        "＜実行結果＞\n",
        "``` py\n",
        "{'pen': 8, 'i': 4, 'have': 4, 'apple': 4, 'pineapple': 4, 'a': 3, 'ppap': 1, 'an': 1}\n",
        "```"
      ],
      "metadata": {
        "id": "0Z2-_1dAQENU"
      }
    },
    {
      "cell_type": "code",
      "source": [
        "import string\n",
        "\n",
        "text = \"\"\"PPAP\n",
        "I have a pen.\n",
        "I have an apple.\n",
        "Apple pen!\n",
        "I have a pen.\n",
        "I have a pineapple.\n",
        "Pineapple pen!\n",
        "Apple pen.\n",
        "Pineapple pen.\n",
        "Pen-pineapple-Apple-pen!\"\"\"\n",
        "print(f\"特殊文字削除前：{text}\")\n",
        "\n",
        "# \"！\"を空文字に置き換える\n",
        "text = text.replace('！', '')\n",
        "# \"-\"を空白に置き換える\n",
        "text = text.replace('-', ' ')\n",
        "# 特殊文字を除去する\n",
        "text = text.translate(str.maketrans('', '', string.punctuation))\n",
        "\n",
        "# 単語を小文字に変換し、「改行・空白」で文字列を分割する\n",
        "text = text.lower().split()\n",
        "\n",
        "print(f\"特殊文字削除後：{text}\")\n",
        "\n",
        "cp = []\n",
        "kosuu = []\n",
        "text_dict = {}\n",
        "\n",
        "i = 0\n",
        "n = len(text)\n",
        "while n > 0:\n",
        "    x = text.count(text[0])\n",
        "    cp.append(text[0])\n",
        "    kosuu.append(x)\n",
        "    y = text[0]\n",
        "    while x > 0:\n",
        "        text.remove(y)\n",
        "        x = text.count(y)\n",
        "    text_dict[cp[i]] = kosuu[i]\n",
        "    n = len(text)\n",
        "    i += 1\n",
        "print(text_dict)\n",
        "print(cp)\n",
        "print(kosuu)\n",
        "\n",
        "dic = dict(zip(cp,kosuu ))\n",
        "print(dic)\n",
        "sorted_values = sorted(dic.values())\n",
        "print(sorted_values)\n",
        "sorted_dict = {key: value for key, value in sorted(dic.items(), key=lambda item: item[1])}\n",
        "print(sorted_dict)\n",
        "\n"
      ],
      "metadata": {
        "id": "ficNVfkgR5Kv",
        "colab": {
          "base_uri": "https://localhost:8080/"
        },
        "outputId": "c16a910a-3542-4b9e-8d0e-e008d12e16c2"
      },
      "execution_count": 35,
      "outputs": [
        {
          "output_type": "stream",
          "name": "stdout",
          "text": [
            "特殊文字削除前：PPAP\n",
            "I have a pen.\n",
            "I have an apple.\n",
            "Apple pen!\n",
            "I have a pen.\n",
            "I have a pineapple.\n",
            "Pineapple pen!\n",
            "Apple pen.\n",
            "Pineapple pen.\n",
            "Pen-pineapple-Apple-pen!\n",
            "特殊文字削除後：['ppap', 'i', 'have', 'a', 'pen', 'i', 'have', 'an', 'apple', 'apple', 'pen', 'i', 'have', 'a', 'pen', 'i', 'have', 'a', 'pineapple', 'pineapple', 'pen', 'apple', 'pen', 'pineapple', 'pen', 'pen', 'pineapple', 'apple', 'pen']\n",
            "{'ppap': 1, 'i': 4, 'have': 4, 'a': 3, 'pen': 8, 'an': 1, 'apple': 4, 'pineapple': 4}\n",
            "['ppap', 'i', 'have', 'a', 'pen', 'an', 'apple', 'pineapple']\n",
            "[1, 4, 4, 3, 8, 1, 4, 4]\n",
            "{'ppap': 1, 'i': 4, 'have': 4, 'a': 3, 'pen': 8, 'an': 1, 'apple': 4, 'pineapple': 4}\n",
            "[1, 1, 3, 4, 4, 4, 4, 8]\n",
            "{'ppap': 1, 'an': 1, 'a': 3, 'i': 4, 'have': 4, 'apple': 4, 'pineapple': 4, 'pen': 8}\n"
          ]
        }
      ]
    },
    {
      "cell_type": "markdown",
      "source": [
        "### 課題1の補足"
      ],
      "metadata": {
        "id": "DzogBUbNsrMN"
      }
    },
    {
      "cell_type": "markdown",
      "source": [
        "以下の文字列の分割方法について説明します。"
      ],
      "metadata": {
        "id": "JfgciChzstnh"
      }
    },
    {
      "cell_type": "code",
      "source": [
        "test_text = \"Pen-pineapple-Apple-pen！\""
      ],
      "metadata": {
        "id": "bjoi1QqQs1fb"
      },
      "execution_count": null,
      "outputs": []
    },
    {
      "cell_type": "markdown",
      "source": [
        "`string.punctuation`という定数は、英文の句読点や記号などを含む特殊な文字の集合を表す定数です。"
      ],
      "metadata": {
        "id": "MY4_tDdgtBRx"
      }
    },
    {
      "cell_type": "code",
      "source": [
        "import string\n",
        "string.punctuation"
      ],
      "metadata": {
        "colab": {
          "base_uri": "https://localhost:8080/",
          "height": 36
        },
        "id": "YtLAWBb7uQYQ",
        "outputId": "d426f80b-6d69-41db-9692-ab5bc7739133"
      },
      "execution_count": null,
      "outputs": [
        {
          "output_type": "execute_result",
          "data": {
            "text/plain": [
              "'!\"#$%&\\'()*+,-./:;<=>?@[\\\\]^_`{|}~'"
            ],
            "application/vnd.google.colaboratory.intrinsic+json": {
              "type": "string"
            }
          },
          "metadata": {},
          "execution_count": 4
        }
      ]
    },
    {
      "cell_type": "markdown",
      "source": [
        "`translate(str.maketrans('', '', string.punctuation))`を文字列に適用することで、\n",
        "\" 半角の特殊文字 \" を除去することができます。\n",
        "\n",
        "文字列を処理する際によく使われる表現です。"
      ],
      "metadata": {
        "id": "OqWV7BOYu8Dn"
      }
    },
    {
      "cell_type": "code",
      "source": [
        "import string\n",
        "\n",
        "test_text = \"Pen-pineapple-Apple-pen！\"\n",
        "print(f\"特殊文字削除前：{test_text}\")\n",
        "\n",
        "# 特殊文字を除去する\n",
        "test_text = test_text.translate(str.maketrans('', '', string.punctuation))\n",
        "\n",
        "print(f\"特殊文字削除後：{test_text}\")"
      ],
      "metadata": {
        "colab": {
          "base_uri": "https://localhost:8080/"
        },
        "id": "_jUMSdbfvo98",
        "outputId": "19c05252-a762-45a1-8ef2-e43b1cc2df0c"
      },
      "execution_count": null,
      "outputs": [
        {
          "output_type": "stream",
          "name": "stdout",
          "text": [
            "特殊文字削除前：Pen-pineapple-Apple-pen！\n",
            "特殊文字削除後：PenpineappleApplepen！\n"
          ]
        }
      ]
    },
    {
      "cell_type": "markdown",
      "source": [
        "特殊文字 \"-\" を除去できました。\n",
        "\n",
        "\"！\"は全角文字なので、除去することができていません。\n",
        "これは空文字で置き換えてしまいましょう。"
      ],
      "metadata": {
        "id": "66WUalFgwLmz"
      }
    },
    {
      "cell_type": "code",
      "source": [
        "import string\n",
        "\n",
        "test_text = \"Pen-pineapple-Apple-pen！\"\n",
        "print(f\"特殊文字削除前：{test_text}\")\n",
        "\n",
        "# \"！\"を空文字に置き換える\n",
        "test_text = test_text.replace('！', '')\n",
        "# 特殊文字を除去する\n",
        "test_text = test_text.translate(str.maketrans('', '', string.punctuation))\n",
        "\n",
        "print(f\"特殊文字削除後：{test_text}\")"
      ],
      "metadata": {
        "colab": {
          "base_uri": "https://localhost:8080/"
        },
        "id": "qU70uV_Owg4T",
        "outputId": "1544d71c-d12d-47b1-8811-3f032caed080"
      },
      "execution_count": null,
      "outputs": [
        {
          "output_type": "stream",
          "name": "stdout",
          "text": [
            "特殊文字削除前：Pen-pineapple-Apple-pen！\n",
            "特殊文字削除後：PenpineappleApplepen\n"
          ]
        }
      ]
    },
    {
      "cell_type": "markdown",
      "source": [
        "このように除去すると`PenpineappleApplepen`が一つの単語になってしまいます。\n",
        "\n",
        "そのため特殊文字を除去する前に \" - \" を空白に置き換えましょう。"
      ],
      "metadata": {
        "id": "eHcSTGMAw3oR"
      }
    },
    {
      "cell_type": "code",
      "source": [
        "import string\n",
        "\n",
        "test_text = \"Pen-pineapple-Apple-pen！\"\n",
        "print(f\"特殊文字削除前：{test_text}\")\n",
        "\n",
        "# \"！\"を空文字に置き換える\n",
        "test_text = test_text.replace('！', '')\n",
        "# \"-\"を空白に置き換える\n",
        "test_text = test_text.replace('-', ' ')\n",
        "# 特殊文字を除去する\n",
        "test_text = test_text.translate(str.maketrans('', '', string.punctuation))\n",
        "\n",
        "print(f\"特殊文字削除後：{test_text}\")"
      ],
      "metadata": {
        "colab": {
          "base_uri": "https://localhost:8080/"
        },
        "id": "JQZ4wUvMxXLi",
        "outputId": "3a822e1e-fdad-463d-b6f4-ff802b95d961"
      },
      "execution_count": null,
      "outputs": [
        {
          "output_type": "stream",
          "name": "stdout",
          "text": [
            "特殊文字削除前：Pen-pineapple-Apple-pen！\n",
            "特殊文字削除後：Pen pineapple Apple pen\n"
          ]
        }
      ]
    },
    {
      "cell_type": "markdown",
      "source": [
        "このようにして単語を分けていきます。\n",
        "\n",
        "後は単語を分けていくだけですが、今回は大文字と小文字が混在しているので、\n",
        "全て小文字にしてからカウントしましょう。"
      ],
      "metadata": {
        "id": "t_K_D_kix1Ww"
      }
    },
    {
      "cell_type": "code",
      "source": [
        "import string\n",
        "\n",
        "test_text = \"Pen-pineapple-Apple-pen！\"\n",
        "print(f\"特殊文字削除前：{test_text}\")\n",
        "\n",
        "# \"！\"を空文字に置き換える\n",
        "test_text = test_text.replace('！', '')\n",
        "# \"-\"を空白に置き換える\n",
        "test_text = test_text.replace('-', ' ')\n",
        "# 特殊文字を除去する\n",
        "test_text = test_text.translate(str.maketrans('', '', string.punctuation))\n",
        "\n",
        "# 単語を小文字に変換し、「改行・空白」で文字列を分割する\n",
        "test_text = test_text.lower().split()\n",
        "\n",
        "print(f\"特殊文字削除後：{test_text}\")"
      ],
      "metadata": {
        "colab": {
          "base_uri": "https://localhost:8080/"
        },
        "id": "ynG38NTvyG4v",
        "outputId": "3189d64c-1081-4237-96e3-1b1517cfc7aa"
      },
      "execution_count": null,
      "outputs": [
        {
          "output_type": "stream",
          "name": "stdout",
          "text": [
            "特殊文字削除前：Pen-pineapple-Apple-pen！\n",
            "特殊文字削除後：['pen', 'pineapple', 'apple', 'pen']\n"
          ]
        }
      ]
    },
    {
      "cell_type": "markdown",
      "source": [
        "## 課題2"
      ],
      "metadata": {
        "id": "HZlVs9Vivt7d"
      }
    },
    {
      "cell_type": "markdown",
      "source": [
        "成績評価を0~5の6段階でつけたいものとします。\n",
        "\n",
        "|成績|点数|\n",
        "|:---| :--- |\n",
        "|$A$|5|\n",
        "|$B^{+}$|4|\n",
        "|$B$|3|\n",
        "|$B^{-}$|2|\n",
        "|$C^{+}$|1|\n",
        "|$C$|0|\n"
      ],
      "metadata": {
        "id": "bIsZE1q0vwyd"
      }
    },
    {
      "cell_type": "markdown",
      "source": [
        "上表のように成績を変換する関数を作成してください"
      ],
      "metadata": {
        "id": "g8y7FrrIM0XM"
      }
    },
    {
      "cell_type": "markdown",
      "source": [
        "この科目は、「5×全15回=最大点75点」に、\n",
        "「全14回×50点=最大点700点を25点に圧縮したもの」の和によって成績判定を行います。"
      ],
      "metadata": {
        "id": "sGR63Lq9M3QE"
      }
    },
    {
      "cell_type": "markdown",
      "source": [
        "適切に関数を使い、以下のデータの成績評価を行えるようにしてください\n",
        "\n",
        "\n"
      ],
      "metadata": {
        "id": "i9d5cECuwYJU"
      }
    },
    {
      "cell_type": "code",
      "source": [],
      "metadata": {
        "id": "aKIy-pQ9Sz_c"
      },
      "execution_count": null,
      "outputs": []
    },
    {
      "cell_type": "markdown",
      "source": [
        "＜例＞\n",
        "小テストの合計点は600点だったので25点満点に圧縮すると21.42点\n",
        "課題は全て$B^+$評価だったので4×15=60点\n",
        "合計点81.42点なので評定は「優」"
      ],
      "metadata": {
        "id": "KJB5H4Xsaj0g"
      }
    },
    {
      "cell_type": "code",
      "source": [
        "seiseki_data = {\"課題\" : [\"B+\",\"A\",\"B+\",\"A\",\"A\",\"A\",\"A\",\"A\",\"B+\",\"A\",\n",
        "                       \"A\",\"B+\",\"A\",\"B+\",\"A\"] ,\n",
        "             \"小テスト\" : [50,50,50,15,40,50,50,50,50,\n",
        "                           15,45,40,50,50]\n",
        "             }"
      ],
      "metadata": {
        "id": "5rhhPCjGxPxP"
      },
      "execution_count": null,
      "outputs": []
    },
    {
      "cell_type": "code",
      "source": [
        "seiseki=(list(seiseki_data.values()))\n",
        "kadai=seiseki[0]\n",
        "tes=seiseki[1]\n",
        "\n",
        "#課題を点数化\n",
        "kadaiten=[]\n",
        "n=len(kadai)\n",
        "i=0\n",
        "while n>i:\n",
        "  if kadai[i]==\"A\":\n",
        "    kadaiten.append(5)\n",
        "  elif kadai[i]==\"B+\":\n",
        "    kadaiten.append(4)\n",
        "  elif kadai[i]==\"B\":\n",
        "    kadaiten.append(3)\n",
        "  elif kadai[i]==\"B-\":\n",
        "    kadaiten.append(2)\n",
        "  elif kadai[i]==\"C+\":\n",
        "    kadaiten.append(1)\n",
        "  elif kadai[i]==\"C\":\n",
        "    kadaiten.append(0)\n",
        "  i=i+1\n",
        "kadai_goukei=sum(kadaiten)\n",
        "print(\"課題点\",kadai_goukei)\n",
        "\n",
        "#小テストの圧縮\n",
        "tes_goukei=sum(tes)\n",
        "tes_25=(tes_goukei/700)*25\n",
        "\n",
        "#合計点と評価\n",
        "import math\n",
        "goukei=tes_25+kadai_goukei\n",
        "print(\"合計点\",goukei)\n",
        "goukei=goukei/10\n",
        "goukei=int(goukei)\n",
        "goukei=goukei*10\n",
        "goukei=str(goukei)\n",
        "print(goukei)\n",
        "goukei=''.join(map(str, goukei))\n",
        "print(goukei)\n",
        "\n",
        "kekka_list = []\n",
        "hantei = goukei.replace(\"60\",\"可\").replace(\"70\",\"良\").replace(\"80\",\"優\").replace(\"90\",\"秀\")\n",
        "kekka_list.append(hantei)\n",
        "print(kekka_list)\n"
      ],
      "metadata": {
        "id": "i_c6mOJq8P1_",
        "colab": {
          "base_uri": "https://localhost:8080/"
        },
        "outputId": "004c9d0d-8d68-4326-af11-e0626b7b8a55"
      },
      "execution_count": null,
      "outputs": [
        {
          "output_type": "stream",
          "name": "stdout",
          "text": [
            "課題点 70\n",
            "合計点 91.60714285714286\n",
            "90\n",
            "90\n",
            "['秀']\n"
          ]
        }
      ]
    },
    {
      "cell_type": "markdown",
      "source": [
        "### 課題2 補足"
      ],
      "metadata": {
        "id": "E8ZRqBlkGW2D"
      }
    },
    {
      "cell_type": "markdown",
      "source": [
        "文字列を置換したいときは**`replace`メソッド**を使います。\n",
        "\n",
        "複数回行いたいときは`replace`メソッドを複数回続けます。"
      ],
      "metadata": {
        "id": "s4IPiuNZGd96"
      }
    },
    {
      "cell_type": "code",
      "source": [
        "hantei_list = [\"60\",\"70\",\"80\",\"90\"]\n",
        "kekka_list = []\n",
        "\n",
        "\"\"\"\n",
        "リストから要素を取り出して指定の値を置換する\n",
        "\"\"\"\n",
        "for hantei in hantei_list:\n",
        "  hantei = hantei.replace(\"60\",\"可\").replace(\"70\",\"良\").replace(\"80\",\"優\").replace(\"90\",\"秀\")\n",
        "  kekka_list.append(hantei)\n",
        "\n",
        "print(kekka_list)"
      ],
      "metadata": {
        "colab": {
          "base_uri": "https://localhost:8080/"
        },
        "id": "83OyhJkDGupg",
        "outputId": "ddca8bed-b768-441c-d3f5-03d98069f586"
      },
      "execution_count": null,
      "outputs": [
        {
          "output_type": "stream",
          "name": "stdout",
          "text": [
            "['可', '良', '優', '秀']\n"
          ]
        }
      ]
    },
    {
      "cell_type": "markdown",
      "source": [
        "## 課題3"
      ],
      "metadata": {
        "id": "b9E8y6dGMRgE"
      }
    },
    {
      "cell_type": "markdown",
      "source": [
        "GPAを計算したいものとします。\n",
        "成績に付与されるGPは以下の通りです。\n",
        "\n",
        "|成績|GP|\n",
        "|:---| :--- |\n",
        "|秀|4|\n",
        "|優|3|\n",
        "|良|2|\n",
        "|可|1|\n",
        "|不可|0|"
      ],
      "metadata": {
        "id": "wimEVJZUMWoL"
      }
    },
    {
      "cell_type": "markdown",
      "source": [
        "上表のように成績を変換する関数を作成してください"
      ],
      "metadata": {
        "id": "vLfMefKLNZsq"
      }
    },
    {
      "cell_type": "markdown",
      "source": [
        "GPAの計算式は以下の通りです。\n",
        "$$\n",
        "\\frac{(GP×そのGPの単位数) の合計}{履修単位数}\n",
        "$$"
      ],
      "metadata": {
        "id": "pJ-Cltm9NbZ6"
      }
    },
    {
      "cell_type": "markdown",
      "source": [
        "以下のタプルは一単位の科目を集めたものです。\n",
        "そのほかの科目は全て二単位です。"
      ],
      "metadata": {
        "id": "vColSqfIN8PI"
      }
    },
    {
      "cell_type": "code",
      "source": [
        "one_unit_class = (\"キャリア形成Ａ１（Ａ）\",\"千歳学(Ａ)\",\"言語リテラシー１(Ａ)\",\n",
        "                  \"理工学基礎実験１（Ａ）\",\"スポーツ総合１(Ａ)\",\"健康科学(Ａ・Ｂ)\")"
      ],
      "metadata": {
        "id": "xL2nPwOVGs4u"
      },
      "execution_count": 2,
      "outputs": []
    },
    {
      "cell_type": "markdown",
      "source": [
        "適切に関数を使い、以下のデータのGPAを算出してください"
      ],
      "metadata": {
        "id": "k_jm9pzkOFAw"
      }
    },
    {
      "cell_type": "code",
      "source": [
        "seiseki_data = {\"授業\":[\"物理学入門(Ａ・Ｂ)\",\"化学入門(Ａ・Ｂ)\",\"エレクトロニクス入門(Ａ・Ｂ)\",\n",
        "                      \"情報学基礎演習(Ａ)\",\"キャリア形成Ａ１（Ａ）\",\"千歳学(Ａ)\",\n",
        "                      \"言語リテラシー１(Ａ)\",\"微分積分学Ⅰ（Ａ）\",\"理工学基礎実験１（Ａ）\",\n",
        "                      \"理系のための基礎英語Ⅰ(Ａ)\",\"日本国憲法(遠隔)\",\"スポーツ総合１(Ａ)\",\n",
        "                      \"健康科学(Ａ・Ｂ)\"],\n",
        "\n",
        "              \"成績\":[\"良\",\"秀\",\"秀\",\"秀\",\"秀\",\"秀\",\"秀\",\"優\",\"優\",\"秀\",\"秀\",\"優\",\"優\"]\n",
        "              }"
      ],
      "metadata": {
        "id": "hzQ83qvxHubl"
      },
      "execution_count": 12,
      "outputs": []
    },
    {
      "cell_type": "code",
      "source": [
        "# 入力用\n",
        "seiseki=(list(seiseki_data.values()))\n",
        "print(seiseki)\n",
        "clas=seiseki[0]\n",
        "print(clas)\n",
        "ten=[]\n",
        "hyouka=seiseki[1]\n",
        "goukei=0\n",
        "print(hyouka)\n",
        "n=len(hyouka)\n",
        "dic = dict(zip(clas,hyouka))\n",
        "print(dic)\n",
        "\n",
        "i=0\n",
        "m=len(one_unit_class)\n",
        "y=[]\n",
        "while i<m:\n",
        "  x=clas.index(one_unit_class[i])\n",
        "  y.append(x)\n",
        "  i=i+1\n",
        "print(y)\n",
        "\n",
        "hyouka1=[]\n",
        "i=0\n",
        "n=len(y)\n",
        "while i<n:\n",
        "  hyouka1.append(hyouka[y[i]])\n",
        "  i=i+1\n",
        "print(hyouka1)"
      ],
      "metadata": {
        "id": "fABnfUJzPgLw",
        "colab": {
          "base_uri": "https://localhost:8080/"
        },
        "outputId": "22c6f73a-cb99-4e8a-b48e-ae34ec0bdddb"
      },
      "execution_count": 33,
      "outputs": [
        {
          "output_type": "stream",
          "name": "stdout",
          "text": [
            "[['物理学入門(Ａ・Ｂ)', '化学入門(Ａ・Ｂ)', 'エレクトロニクス入門(Ａ・Ｂ)', '情報学基礎演習(Ａ)', 'キャリア形成Ａ１（Ａ）', '千歳学(Ａ)', '言語リテラシー１(Ａ)', '微分積分学Ⅰ（Ａ）', '理工学基礎実験１（Ａ）', '理系のための基礎英語Ⅰ(Ａ)', '日本国憲法(遠隔)', 'スポーツ総合１(Ａ)', '健康科学(Ａ・Ｂ)'], ['良', '秀', '秀', '秀', '秀', '秀', '秀', '優', '優', '秀', '秀', '優', '優']]\n",
            "['物理学入門(Ａ・Ｂ)', '化学入門(Ａ・Ｂ)', 'エレクトロニクス入門(Ａ・Ｂ)', '情報学基礎演習(Ａ)', 'キャリア形成Ａ１（Ａ）', '千歳学(Ａ)', '言語リテラシー１(Ａ)', '微分積分学Ⅰ（Ａ）', '理工学基礎実験１（Ａ）', '理系のための基礎英語Ⅰ(Ａ)', '日本国憲法(遠隔)', 'スポーツ総合１(Ａ)', '健康科学(Ａ・Ｂ)']\n",
            "['良', '秀', '秀', '秀', '秀', '秀', '秀', '優', '優', '秀', '秀', '優', '優']\n",
            "{'物理学入門(Ａ・Ｂ)': '良', '化学入門(Ａ・Ｂ)': '秀', 'エレクトロニクス入門(Ａ・Ｂ)': '秀', '情報学基礎演習(Ａ)': '秀', 'キャリア形成Ａ１（Ａ）': '秀', '千歳学(Ａ)': '秀', '言語リテラシー１(Ａ)': '秀', '微分積分学Ⅰ（Ａ）': '優', '理工学基礎実験１（Ａ）': '優', '理系のための基礎英語Ⅰ(Ａ)': '秀', '日本国憲法(遠隔)': '秀', 'スポーツ総合１(Ａ)': '優', '健康科学(Ａ・Ｂ)': '優'}\n",
            "[4, 5, 6, 8, 11, 12]\n",
            "['秀', '秀', '秀', '優', '優', '優']\n"
          ]
        }
      ]
    },
    {
      "cell_type": "code",
      "source": [
        "def gpa(score):\n",
        "  i=0\n",
        "  n=0\n",
        "  n=len(score)\n",
        "  while n>i:\n",
        "    if score[i]=='秀':\n",
        "      ten.append(4)\n",
        "    elif score[i]=='優':\n",
        "      ten.append(3)\n",
        "    elif score[i]=='良':\n",
        "      ten.append(2)\n",
        "    elif score[i]=='可':\n",
        "      ten.append(1)\n",
        "    elif score[i]=='不可':\n",
        "      ten.append(0)\n",
        "    i=i+1\n",
        "\n",
        "ten=[]\n",
        "gpa(hyouka)\n",
        "goukei=sum(ten)*2\n",
        "warukazu=(len(hyouka))*2\n",
        "ten=[]\n",
        "gpa(hyouka1)\n",
        "goukei1=sum(ten)\n",
        "warukazu1=len(hyouka1)\n",
        "\n",
        "n=len(hyouka)\n",
        "print(\"GPA=\",(goukei-goukei1)/(warukazu-warukazu1))"
      ],
      "metadata": {
        "id": "oCYE3woahW20",
        "outputId": "5b62656e-7ddb-46f8-c4f2-19982666d05d",
        "colab": {
          "base_uri": "https://localhost:8080/"
        }
      },
      "execution_count": 34,
      "outputs": [
        {
          "output_type": "stream",
          "name": "stdout",
          "text": [
            "GPA= 3.55\n"
          ]
        }
      ]
    },
    {
      "cell_type": "code",
      "source": [],
      "metadata": {
        "id": "0PLkLVYCc5FK"
      },
      "execution_count": null,
      "outputs": []
    }
  ]
}