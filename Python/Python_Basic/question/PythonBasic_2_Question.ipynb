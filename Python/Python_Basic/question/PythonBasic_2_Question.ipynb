{
  "nbformat": 4,
  "nbformat_minor": 0,
  "metadata": {
    "colab": {
      "provenance": [],
      "include_colab_link": true
    },
    "kernelspec": {
      "name": "python3",
      "display_name": "Python 3"
    },
    "language_info": {
      "name": "python"
    }
  },
  "cells": [
    {
      "cell_type": "markdown",
      "metadata": {
        "id": "view-in-github",
        "colab_type": "text"
      },
      "source": [
        "<a href=\"https://colab.research.google.com/github/b2221010/Prmn2023a/blob/main/Python/Python_Basic/question/PythonBasic_2_Question.ipynb\" target=\"_parent\"><img src=\"https://colab.research.google.com/assets/colab-badge.svg\" alt=\"Open In Colab\"/></a>"
      ]
    },
    {
      "cell_type": "markdown",
      "source": [
        "# 第2章 課題"
      ],
      "metadata": {
        "id": "C44SsXDACtHu"
      }
    },
    {
      "cell_type": "markdown",
      "source": [
        "## 課題1"
      ],
      "metadata": {
        "id": "OnkezWHRCwr9"
      }
    },
    {
      "cell_type": "markdown",
      "source": [
        "for文を使って、以下のように出力してください"
      ],
      "metadata": {
        "id": "q32rK-cECzCl"
      }
    },
    {
      "cell_type": "markdown",
      "source": [
        "![oSFeQoX.png](https://i.imgur.com/oSFeQoX.png)"
      ],
      "metadata": {
        "id": "FxMcxznVB6cI"
      }
    },
    {
      "cell_type": "code",
      "source": [],
      "metadata": {
        "id": "o0KP45kJSPmQ"
      },
      "execution_count": null,
      "outputs": []
    },
    {
      "cell_type": "code",
      "source": [
        "# 入力用\n",
        "for i in range(5):\n",
        " a=str('*')\n",
        " s=i*2-1\n",
        " a=a*s\n",
        " print(a.center(5*2))\n",
        " \n"
      ],
      "metadata": {
        "id": "iBFSsrdRC5Zt",
        "outputId": "24f445b8-f105-4579-c45b-d25fdc8fc24b",
        "colab": {
          "base_uri": "https://localhost:8080/"
        }
      },
      "execution_count": 14,
      "outputs": [
        {
          "output_type": "stream",
          "name": "stdout",
          "text": [
            "          \n",
            "    *     \n",
            "   ***    \n",
            "  *****   \n",
            " *******  \n"
          ]
        }
      ]
    },
    {
      "cell_type": "markdown",
      "source": [
        "## 課題2"
      ],
      "metadata": {
        "id": "gIn-UqGTCagu"
      }
    },
    {
      "cell_type": "markdown",
      "source": [
        "課題1の場合を`n=4`として、nを自分で設定して出力できるようにしてください"
      ],
      "metadata": {
        "id": "ltdiEdqYDFy8"
      }
    },
    {
      "cell_type": "markdown",
      "source": [
        "＜例＞ n=5の場合  \n",
        "![o5NjugQ.png](https://imgur.com/o5NjugQ.png)"
      ],
      "metadata": {
        "id": "hw0FM8BRDHz1"
      }
    },
    {
      "cell_type": "code",
      "source": [
        "# 入力用\n",
        "n=int(input())\n",
        "for i in range(n+1):\n",
        " a=str('*')\n",
        " s=i*2-1\n",
        " a=a*s\n",
        " print(a.center((n+1)*2))"
      ],
      "metadata": {
        "id": "upd76Tv-FrIB",
        "outputId": "69dd254f-7f84-431d-9d1b-6ac281043a6e",
        "colab": {
          "base_uri": "https://localhost:8080/"
        }
      },
      "execution_count": 15,
      "outputs": [
        {
          "output_type": "stream",
          "name": "stdout",
          "text": [
            "5\n",
            "            \n",
            "     *      \n",
            "    ***     \n",
            "   *****    \n",
            "  *******   \n",
            " *********  \n"
          ]
        }
      ]
    },
    {
      "cell_type": "markdown",
      "source": [
        "## 課題3"
      ],
      "metadata": {
        "id": "tLMJvwBDE7wT"
      }
    },
    {
      "cell_type": "markdown",
      "source": [
        "for文を使って、以下のように出力してください"
      ],
      "metadata": {
        "id": "vZNvWsG7E99q"
      }
    },
    {
      "cell_type": "markdown",
      "source": [
        "![oSirXec.png](https://imgur.com/oSirXec.png)"
      ],
      "metadata": {
        "id": "ijOV-ilXGDNR"
      }
    },
    {
      "cell_type": "code",
      "source": [
        "# 入力用\n",
        "n=int(input())\n",
        "for i in range(n+1):\n",
        " a=str('*')\n",
        " s=i*2-1\n",
        " a=a*s\n",
        " print(a.center((n+1)*2))\n",
        "\n",
        "for i in range(n):\n",
        " a=str('*')\n",
        " s=(n-i-1)*2-1\n",
        " a=a*s\n",
        " print(a.center((n+1)*2))"
      ],
      "metadata": {
        "id": "Q5Ob9uZpGIE3",
        "outputId": "d70ba876-20c4-4e59-8578-f6b9a2bbccb4",
        "colab": {
          "base_uri": "https://localhost:8080/"
        }
      },
      "execution_count": 20,
      "outputs": [
        {
          "output_type": "stream",
          "name": "stdout",
          "text": [
            "4\n",
            "          \n",
            "    *     \n",
            "   ***    \n",
            "  *****   \n",
            " *******  \n",
            "  *****   \n",
            "   ***    \n",
            "    *     \n",
            "          \n"
          ]
        }
      ]
    },
    {
      "cell_type": "markdown",
      "source": [
        "## 課題4"
      ],
      "metadata": {
        "id": "Oh7whOPkGQ3I"
      }
    },
    {
      "cell_type": "markdown",
      "source": [
        "課題3の場合を`n=4`として、nを自分で設定して出力できるようにしてください"
      ],
      "metadata": {
        "id": "PnvT8MQbGS03"
      }
    },
    {
      "cell_type": "markdown",
      "source": [
        "＜例＞ n=5の場合  \n",
        "\n",
        "![my4J17V.png](https://i.imgur.com/my4J17V.png)"
      ],
      "metadata": {
        "id": "ZujkAbVMGzhn"
      }
    },
    {
      "cell_type": "code",
      "source": [
        "# 入力用\n",
        "n=int(input())\n",
        "for i in range(n+1):\n",
        " a=str('*')\n",
        " s=i*2-1\n",
        " a=a*s\n",
        " print(a.center((n+1)*2))\n",
        "\n",
        "for i in range(n):\n",
        " a=str('*')\n",
        " s=(n-i-1)*2-1\n",
        " a=a*s\n",
        " print(a.center((n+1)*2))\n"
      ],
      "metadata": {
        "id": "hCFNQ7mWG99u",
        "outputId": "b80d7e2d-d7f6-4c9c-e90f-509869298baf",
        "colab": {
          "base_uri": "https://localhost:8080/"
        }
      },
      "execution_count": 21,
      "outputs": [
        {
          "output_type": "stream",
          "name": "stdout",
          "text": [
            "5\n",
            "            \n",
            "     *      \n",
            "    ***     \n",
            "   *****    \n",
            "  *******   \n",
            " *********  \n",
            "  *******   \n",
            "   *****    \n",
            "    ***     \n",
            "     *      \n",
            "            \n"
          ]
        }
      ]
    },
    {
      "cell_type": "markdown",
      "source": [
        "## 課題5"
      ],
      "metadata": {
        "id": "R2MvOK4wHJlK"
      }
    },
    {
      "cell_type": "markdown",
      "source": [
        "for文を使って、以下のように出力してください"
      ],
      "metadata": {
        "id": "ddMIUoaKHcwd"
      }
    },
    {
      "cell_type": "markdown",
      "source": [
        "![vDUi5eM.png](https://imgur.com/vDUi5eM.png)"
      ],
      "metadata": {
        "id": "CD1cVUlWHLVO"
      }
    },
    {
      "cell_type": "code",
      "source": [
        "n=int(input())\n",
        "n=n+1\n",
        "y=n\n",
        "for i in range(n-1):\n",
        "  a=str('?')\n",
        "  b=str('*')\n",
        "  x=a*(n-(i+1))+b*((i+1)*2-1)+a*(y)+b*((i+1)*2-1)\n",
        "  y=y-2\n",
        "  print(x)\n",
        "  \n",
        " \n",
        "\n",
        " "
      ],
      "metadata": {
        "id": "1pDkfJpUHd93",
        "colab": {
          "base_uri": "https://localhost:8080/"
        },
        "outputId": "5210ee2c-be3e-442b-c6a5-a4f17fe78b6f"
      },
      "execution_count": 34,
      "outputs": [
        {
          "output_type": "stream",
          "name": "stdout",
          "text": [
            "4\n",
            "????*?????*\n",
            "???***???***\n",
            "??*****?*****\n",
            "?**************\n"
          ]
        }
      ]
    },
    {
      "cell_type": "code",
      "source": [
        "n=int(input())\n",
        "y=n+1\n",
        "for i in range(n):\n",
        "  a=str(' ')\n",
        "  b=str('*')\n",
        "  if(i==n-1):\n",
        "    x=a*(n-(i+1))+b*((i+1)*2-1)+a*(y)+b*((i+1)*2-2)\n",
        "  elif(i<n-1):\n",
        "    x=a*(n-(i+1))+b*((i+1)*2-1)+a*(y)+b*((i+1)*2-1)\n",
        "  y=y-2\n",
        "  print(x)\n",
        "y=n+1\n",
        "for i in range(n-1):\n",
        "  a=str(' ')\n",
        "  b=str('*')\n",
        "  x=a*(i+1)+b*y+a*((i+1)*2-1)+b*y\n",
        "  y=y-2\n",
        "  print(x)"
      ],
      "metadata": {
        "id": "5PW7TMhLlem9",
        "outputId": "23517aa3-b0ce-4d65-98e5-81a504ca9ee4",
        "colab": {
          "base_uri": "https://localhost:8080/"
        }
      },
      "execution_count": 79,
      "outputs": [
        {
          "output_type": "stream",
          "name": "stdout",
          "text": [
            "4\n",
            "   *     *\n",
            "  ***   ***\n",
            " ***** *****\n",
            "*************\n",
            " ***** *****\n",
            "  ***   ***\n",
            "   *     *\n"
          ]
        }
      ]
    },
    {
      "cell_type": "markdown",
      "source": [
        "## 課題6"
      ],
      "metadata": {
        "id": "oubbafOBHerl"
      }
    },
    {
      "cell_type": "markdown",
      "source": [
        "課題5の場合を`n=4`として、nを自分で設定して出力できるようにしてください"
      ],
      "metadata": {
        "id": "7SzgFdC-HzG9"
      }
    },
    {
      "cell_type": "markdown",
      "source": [
        "＜例＞ n=5の場合  \n",
        "\n",
        "![udkVlYG.png](https://imgur.com/udkVlYG.png)"
      ],
      "metadata": {
        "id": "LY8g9PVPH2OW"
      }
    },
    {
      "cell_type": "code",
      "source": [
        "n=int(input())\n",
        "y=n+1\n",
        "for i in range(n):\n",
        "  a=str(' ')\n",
        "  b=str('*')\n",
        "  if(i==n-1):\n",
        "    x=a*(n-(i+1))+b*((i+1)*2-1)+a*(y)+b*((i+1)*2-2)\n",
        "  elif(i<n-1):\n",
        "    x=a*(n-(i+1))+b*((i+1)*2-1)+a*(y)+b*((i+1)*2-1)\n",
        "  y=y-2\n",
        "  print(x)\n",
        "y=n+1\n",
        "for i in range(n-1):\n",
        "  a=str(' ')\n",
        "  b=str('*')\n",
        "  x=a*(i+1)+b*y+a*((i+1)*2-1)+b*y\n",
        "  y=y-2\n",
        "  print(x)\n"
      ],
      "metadata": {
        "id": "XZOK5ulbH-tu",
        "outputId": "4560803a-d1b1-4c02-ed62-e725b40ad1bb",
        "colab": {
          "base_uri": "https://localhost:8080/"
        }
      },
      "execution_count": 81,
      "outputs": [
        {
          "output_type": "stream",
          "name": "stdout",
          "text": [
            "4\n",
            "   *     *\n",
            "  ***   ***\n",
            " ***** *****\n",
            "*************\n",
            " ***** *****\n",
            "  ***   ***\n",
            "   *     *\n"
          ]
        }
      ]
    },
    {
      "cell_type": "markdown",
      "source": [
        "## 課題7"
      ],
      "metadata": {
        "id": "ouqTUmPQIKGF"
      }
    },
    {
      "cell_type": "markdown",
      "source": [
        "for文を使って、以下のように出力してください"
      ],
      "metadata": {
        "id": "WHSxdOHuIMRM"
      }
    },
    {
      "cell_type": "markdown",
      "source": [
        "![IuP0M16.png](https://imgur.com/IuP0M16.png)"
      ],
      "metadata": {
        "id": "-G--WFTkIM8s"
      }
    },
    {
      "cell_type": "code",
      "source": [
        "n=int(input())\n",
        "y=n+1\n",
        "for z in range(2):\n",
        " y=n+1\n",
        " for i in range(n):\n",
        "  a=str(' ')\n",
        "  b=str('*')\n",
        "  if(i==n-1):\n",
        "    x=a*(n-(i+1))+b*((i+1)*2-1)+a*(y)+b*((i+1)*2-2)\n",
        "  elif(i<n-1):\n",
        "    x=a*(n-(i+1))+b*((i+1)*2-1)+a*(y)+b*((i+1)*2-1)\n",
        "  y=y-2\n",
        "  print(x)\n",
        " y=n+1\n",
        " for i in range(n-1):\n",
        "  a=str(' ')\n",
        "  b=str('*')\n",
        "  x=a*(i+1)+b*y+a*((i+1)*2-1)+b*y\n",
        "  y=y-2\n",
        "  print(x)\n"
      ],
      "metadata": {
        "id": "BVXjDteuIijL",
        "outputId": "4143c39d-f88a-461e-ecd3-308716646799",
        "colab": {
          "base_uri": "https://localhost:8080/"
        }
      },
      "execution_count": 84,
      "outputs": [
        {
          "output_type": "stream",
          "name": "stdout",
          "text": [
            "4\n",
            "   *     *\n",
            "  ***   ***\n",
            " ***** *****\n",
            "*************\n",
            " ***** *****\n",
            "  ***   ***\n",
            "   *     *\n",
            "   *     *\n",
            "  ***   ***\n",
            " ***** *****\n",
            "*************\n",
            " ***** *****\n",
            "  ***   ***\n",
            "   *     *\n"
          ]
        }
      ]
    },
    {
      "cell_type": "markdown",
      "source": [
        "## 課題8"
      ],
      "metadata": {
        "id": "31u0ExX2IjWj"
      }
    },
    {
      "cell_type": "markdown",
      "source": [
        "課題7の場合を`n=4`として、nを自分で設定して出力できるようにしてください"
      ],
      "metadata": {
        "id": "zeOvmKarInpz"
      }
    },
    {
      "cell_type": "markdown",
      "source": [
        "＜例＞ n=5の場合  \n",
        "\n",
        "![AlTnu1k.png](https://imgur.com/AlTnu1k.png)"
      ],
      "metadata": {
        "id": "2uLR5sbKIov2"
      }
    },
    {
      "cell_type": "code",
      "source": [
        "n=int(input())\n",
        "y=n+1\n",
        "for z in range(2):\n",
        " y=n+1\n",
        " for i in range(n):\n",
        "  a=str(' ')\n",
        "  b=str('*')\n",
        "  if(i==n-1):\n",
        "    x=a*(n-(i+1))+b*((i+1)*2-1)+a*(y)+b*((i+1)*2-2)\n",
        "  elif(i<n-1):\n",
        "    x=a*(n-(i+1))+b*((i+1)*2-1)+a*(y)+b*((i+1)*2-1)\n",
        "  y=y-2\n",
        "  print(x)\n",
        " y=n+1\n",
        " for i in range(n-1):\n",
        "  a=str(' ')\n",
        "  b=str('*')\n",
        "  x=a*(i+1)+b*y+a*((i+1)*2-1)+b*y\n",
        "  y=y-2\n",
        "  print(x)\n"
      ],
      "metadata": {
        "id": "TXJaIVbYI_Cd",
        "outputId": "21f4f797-4bc2-48d9-e44d-e4dbb5239792",
        "colab": {
          "base_uri": "https://localhost:8080/"
        }
      },
      "execution_count": 86,
      "outputs": [
        {
          "output_type": "stream",
          "name": "stdout",
          "text": [
            "4\n",
            "   *     *\n",
            "  ***   ***\n",
            " ***** *****\n",
            "*************\n",
            " ***** *****\n",
            "  ***   ***\n",
            "   *     *\n",
            "   *     *\n",
            "  ***   ***\n",
            " ***** *****\n",
            "*************\n",
            " ***** *****\n",
            "  ***   ***\n",
            "   *     *\n"
          ]
        }
      ]
    }
  ]
}