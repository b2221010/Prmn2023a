{
  "nbformat": 4,
  "nbformat_minor": 0,
  "metadata": {
    "colab": {
      "provenance": []
    },
    "kernelspec": {
      "name": "python3",
      "display_name": "Python 3"
    },
    "language_info": {
      "name": "python"
    }
  },
  "cells": [
    {
      "cell_type": "markdown",
      "source": [
        "<a href=\"https://colab.research.google.com/github/kiryu-3/Prmn2023/blob/main/Python/Python_Basic/question/PythonBasic_5_Question.ipynb\" target=\"_parent\"><img src=\"https://colab.research.google.com/assets/colab-badge.svg\" alt=\"Open In Colab\"/></a>"
      ],
      "metadata": {
        "id": "TA5kKi-LY1xg"
      }
    },
    {
      "cell_type": "markdown",
      "source": [
        "# 第5章 課題"
      ],
      "metadata": {
        "id": "r-kcfL2yEU8b"
      }
    },
    {
      "cell_type": "markdown",
      "source": [
        "## 課題1"
      ],
      "metadata": {
        "id": "RWo2DmBs_2c4"
      }
    },
    {
      "cell_type": "markdown",
      "source": [
        "1桁の自然数を乱数を使って5つ格納した2つのリストを作ってください。  \n",
        "この時、一つのリスト内で5つの値が重複しないようにしてください\n",
        "\n",
        "その後、そのリストから重複する要素を削除した新しいリストと、   \n",
        "共通の要素を持つ新しいリストを出力してください"
      ],
      "metadata": {
        "id": "QRNvqmTgE8Ww"
      }
    },
    {
      "cell_type": "markdown",
      "source": [
        "＜実行結果例＞\n",
        "``` py  \n",
        "1つ目のリスト：[1, 2, 3, 4, 5]  \n",
        "2つ目のリスト：[1, 3, 5, 7, 9]  \n",
        "重複削除リスト：[1, 2, 3, 4, 5, 7, 9] \n",
        "共通要素リスト：[1, 3, 5]\n",
        "```"
      ],
      "metadata": {
        "id": "Goi4CqGxFOpn"
      }
    },
    {
      "cell_type": "markdown",
      "source": [
        "＜ヒント＞ set関数を用いても用いなくても答えは出せます。"
      ],
      "metadata": {
        "id": "iEOFeFjqkkyS"
      }
    },
    {
      "cell_type": "code",
      "source": [
        "# 入力用\n",
        "import random\n",
        "a=[]\n",
        "b=[]\n",
        "c=[]\n",
        "d=[]\n",
        "i=0\n",
        "j=0\n",
        "\n",
        "while i<5:\n",
        "  a.append(random.randint(1,9))\n",
        "  b.append(random.randint(1,9))\n",
        "  x=a.count(a[i])\n",
        "  y=b.count(b[i])\n",
        "  if x==1 and y==1:\n",
        "    i=i+1\n",
        "  else:\n",
        "    del a[i]\n",
        "    del b[i]\n",
        "print(\"１つ目のリスト:\",a,\" \\n２つ目のリスト:\",b)\n",
        "print(\"合成したリスト:\",a+b)\n",
        "\n",
        "c=a+b\n",
        "i=0\n",
        "while i<10:\n",
        "  x=c.count(i)\n",
        "  j=0\n",
        "  if x>1:\n",
        "   d.append(i)\n",
        "   c.remove(i)\n",
        "  i=i+1\n",
        "print(\"重複削除リスト:\",c)\n",
        "print(\"共通要素リスト:\",d)\n",
        "\n"
      ],
      "metadata": {
        "id": "pQdhCOALMGWj",
        "colab": {
          "base_uri": "https://localhost:8080/"
        },
        "outputId": "6e6f665e-3d34-4c42-cd01-5481e9cdb8ec"
      },
      "execution_count": 2,
      "outputs": [
        {
          "output_type": "stream",
          "name": "stdout",
          "text": [
            "１つ目のリスト: [6, 3, 1, 9, 2]  \n",
            "２つ目のリスト: [6, 3, 8, 5, 1]\n",
            "合成したリスト: [6, 3, 1, 9, 2, 6, 3, 8, 5, 1]\n",
            "重複削除リスト: [9, 2, 6, 3, 8, 5, 1]\n",
            "共通要素リスト: [1, 3, 6]\n"
          ]
        }
      ]
    },
    {
      "cell_type": "markdown",
      "source": [
        "## 課題2"
      ],
      "metadata": {
        "id": "-qZw_n3X8xrW"
      }
    },
    {
      "cell_type": "markdown",
      "source": [
        "共通のキーを持つ辞書を要素とするリストから、特定のキーの値のリストを取得してみます。"
      ],
      "metadata": {
        "id": "vxwATeobQf_U"
      }
    },
    {
      "cell_type": "markdown",
      "source": [
        "以下のリストから、都道府県コード・都道府県・県庁所在地それぞれのリストを作成してください\n",
        "\n",
        "キーが存在しないところがある点に注意してください"
      ],
      "metadata": {
        "id": "tGPa1uU6Qs2c"
      }
    },
    {
      "cell_type": "code",
      "source": [
        "todohuken_data = [{\"コード\": 24, \"都道府県\": \"三重\", \"県庁所在地\": \"津\"},\n",
        "                  {\"コード\": 25, \"都道府県\": \"滋賀\", \"県庁所在地\": \"大津\"},\n",
        "                  {\"コード\": 31, \"都道府県\": \"鳥取\"},\n",
        "                  {\"コード\": 32, \"都道府県\": \"島根\", \"県庁所在地\": \"松江\"},\n",
        "                  {\"コード\": 37, \"都道府県\": \"香川\", \"県庁所在地\": \"高松\"},\n",
        "                  {\"コード\": 38, \"都道府県\": \"愛媛\", \"県庁所在地\": \"松山\"},]"
      ],
      "metadata": {
        "id": "8ZdyRWbERGAY"
      },
      "execution_count": 61,
      "outputs": []
    },
    {
      "cell_type": "markdown",
      "source": [
        "＜出力結果例＞  \n",
        "``` py\n",
        "[24, 25, 31, 32, 37, 38]  \n",
        "['三重', '滋賀', '鳥取', '島根', '香川', '愛媛']\n",
        "['津', '大津', None, '松江', '高松', '松山']\n",
        "```"
      ],
      "metadata": {
        "id": "dQ2n3OMSUXh2"
      }
    },
    {
      "cell_type": "code",
      "source": [
        "todohuken_data = [{\"コード\": 24, \"都道府県\": \"三重\", \"県庁所在地\": \"津\"},\n",
        "                  {\"コード\": 25, \"都道府県\": \"滋賀\", \"県庁所在地\": \"大津\"},\n",
        "                  {\"コード\": 31, \"都道府県\": \"鳥取\"},\n",
        "                  {\"コード\": 32, \"都道府県\": \"島根\", \"県庁所在地\": \"松江\"},\n",
        "                  {\"コード\": 37, \"都道府県\": \"香川\", \"県庁所在地\": \"高松\"},\n",
        "                  {\"コード\": 38, \"都道府県\": \"愛媛\", \"県庁所在地\": \"松山\"},]\n",
        "\n",
        "a=[]\n",
        "b=[]\n",
        "c=[]\n",
        "d=[]\n",
        "e=[]\n",
        "x={}\n",
        "\n",
        "i=0\n",
        "while i<6:\n",
        "   a.append(todohuken_data[i])\n",
        "   x=a[i]\n",
        "   b.append(list(x.values())[0])\n",
        "   c.append(list(x.values())[1])\n",
        "   d.append(list(x.values()))\n",
        "   i=i+1\n",
        "print(d)\n",
        "print(b,c)   \n",
        "  \n",
        "print(b,c,d)"
      ],
      "metadata": {
        "id": "duwCERgQUify",
        "colab": {
          "base_uri": "https://localhost:8080/"
        },
        "outputId": "ebcef6ae-0f67-4042-df37-cf7bf17cd13b"
      },
      "execution_count": 1,
      "outputs": [
        {
          "output_type": "stream",
          "name": "stdout",
          "text": [
            "[[24, '三重', '津'], [25, '滋賀', '大津'], [31, '鳥取'], [32, '島根', '松江'], [37, '香川', '高松'], [38, '愛媛', '松山']]\n",
            "[24, 25, 31, 32, 37, 38] ['三重', '滋賀', '鳥取', '島根', '香川', '愛媛']\n",
            "[24, 25, 31, 32, 37, 38] ['三重', '滋賀', '鳥取', '島根', '香川', '愛媛'] [[24, '三重', '津'], [25, '滋賀', '大津'], [31, '鳥取'], [32, '島根', '松江'], [37, '香川', '高松'], [38, '愛媛', '松山']]\n"
          ]
        }
      ]
    },
    {
      "cell_type": "markdown",
      "source": [
        "## 課題3"
      ],
      "metadata": {
        "id": "1S8kadYgq_gV"
      }
    },
    {
      "cell_type": "markdown",
      "source": [
        "ある文字列が与えられた場合、文字列内の各文字の出現回数をディクショナリの形で返してください\n",
        "\n",
        "大文字と小文字は区別してください  \n",
        "また、出力時はアルファベット順にソートした状態にしてください"
      ],
      "metadata": {
        "id": "OdSKG7k9rA7V"
      }
    },
    {
      "cell_type": "markdown",
      "source": [
        "＜実行結果例＞　「Hello, World!」の各文字のカウント\n",
        "``` py\n",
        "{'H': 1, 'W': 1, 'd': 1, 'e': 1, 'l': 3, 'o': 2, 'r': 1}\n",
        "```"
      ],
      "metadata": {
        "id": "p0suMufQuEzI"
      }
    },
    {
      "cell_type": "code",
      "source": [
        "string = \"Hello, World!??\"\n",
        "a=[]\n",
        "b=[]\n",
        "c=[]\n",
        "d=[]\n",
        "# アルファベット以外の文字を削除 最初に実行してください\n",
        "string = ''.join(c for c in string if c.isalpha())\n",
        "a=list(string)\n",
        "d=list(string)\n",
        "\n",
        "i=0\n",
        "n=len(a)\n",
        "while n>0:\n",
        "  x=a.count(a[0])\n",
        "  print(x)\n",
        "  b.append(a[0])\n",
        "  c.append(x)\n",
        "  a.remove(a[0])\n",
        "  print(a)\n",
        "  n=len(a)\n",
        "print(b,c)"
      ],
      "metadata": {
        "id": "bHv50oDhrdzN",
        "colab": {
          "base_uri": "https://localhost:8080/"
        },
        "outputId": "c7de5e54-f915-426c-e183-1f73a6db8953"
      },
      "execution_count": 9,
      "outputs": [
        {
          "output_type": "stream",
          "name": "stdout",
          "text": [
            "1\n",
            "['e', 'l', 'l', 'o', 'W', 'o', 'r', 'l', 'd']\n",
            "1\n",
            "['l', 'l', 'o', 'W', 'o', 'r', 'l', 'd']\n",
            "3\n",
            "['l', 'o', 'W', 'o', 'r', 'l', 'd']\n",
            "2\n",
            "['o', 'W', 'o', 'r', 'l', 'd']\n",
            "2\n",
            "['W', 'o', 'r', 'l', 'd']\n",
            "1\n",
            "['o', 'r', 'l', 'd']\n",
            "1\n",
            "['r', 'l', 'd']\n",
            "1\n",
            "['l', 'd']\n",
            "1\n",
            "['d']\n",
            "1\n",
            "[]\n",
            "['H', 'e', 'l', 'l', 'o', 'W', 'o', 'r', 'l', 'd'] [1, 1, 3, 2, 2, 1, 1, 1, 1, 1]\n"
          ]
        }
      ]
    },
    {
      "cell_type": "markdown",
      "source": [
        "## 課題4"
      ],
      "metadata": {
        "id": "W573lh39MOlj"
      }
    },
    {
      "cell_type": "markdown",
      "source": [
        "ある大学の名前と年齢が、次のような形式で格納されたディクショナリ `university_dic` があります。"
      ],
      "metadata": {
        "id": "sSIMKY-aNcIx"
      }
    },
    {
      "cell_type": "code",
      "source": [
        "university_dic = {\n",
        "    \"Chitose\" : 25,\n",
        "    \"Hokudai\" : 105,\n",
        "    \"Muroran\" : 74,\n",
        "    \"Hakodate\": 23,\n",
        "}"
      ],
      "metadata": {
        "id": "v-wGyWuKK3wl"
      },
      "execution_count": 13,
      "outputs": []
    },
    {
      "cell_type": "markdown",
      "source": [
        "このリストを、年齢順にソートして、新たなディクショナリとして出力してください"
      ],
      "metadata": {
        "id": "XIxDf9QgO1iH"
      }
    },
    {
      "cell_type": "markdown",
      "source": [
        "＜実行結果＞  \n",
        "``` py\n",
        "{'Hakodate': 23, 'Chitose': 25, 'Muroran': 74, 'Hokudai': 105}\n",
        "```"
      ],
      "metadata": {
        "id": "0Z2-_1dAQENU"
      }
    },
    {
      "cell_type": "code",
      "source": [
        "# 入力用\n",
        "a=[]\n",
        "b=[]\n",
        "c={}\n",
        "c_sorted={}\n",
        "d={}\n",
        "a=list(university_dic.values())\n",
        "b=list(university_dic.keys())\n",
        "n=len(university_dic)\n",
        "i=0\n",
        "while (i<n):\n",
        "  c[a[i]]=b[i]\n",
        "  i=i+1\n",
        "c = sorted(c.items())\n",
        "print(c)\n",
        "\n",
        "a=[]\n",
        "b=[]\n",
        "i=0\n",
        "while i<n:\n",
        "  a.append((c[i])[0])\n",
        "  b.append((c[i])[1])\n",
        "  i=i+1\n",
        "\n",
        "i=0\n",
        "while (i<n):\n",
        "  d[a[i]]=b[i]\n",
        "  i=i+1\n",
        "print(d)"
      ],
      "metadata": {
        "id": "ficNVfkgR5Kv",
        "colab": {
          "base_uri": "https://localhost:8080/"
        },
        "outputId": "8976413f-1f03-4c1c-9d62-82c1c5b6de2a"
      },
      "execution_count": 56,
      "outputs": [
        {
          "output_type": "stream",
          "name": "stdout",
          "text": [
            "[(23, 'Hakodate'), (25, 'Chitose'), (74, 'Muroran'), (105, 'Hokudai')]\n",
            "{23: 'Hakodate', 25: 'Chitose', 74: 'Muroran', 105: 'Hokudai'}\n"
          ]
        }
      ]
    },
    {
      "cell_type": "code",
      "source": [
        "sorted(university_dic.values()) "
      ],
      "metadata": {
        "id": "VT1KOGUp-sAR",
        "outputId": "54acae9c-13d3-4ebc-8f5f-a15443ff3f79",
        "colab": {
          "base_uri": "https://localhost:8080/"
        }
      },
      "execution_count": 31,
      "outputs": [
        {
          "output_type": "execute_result",
          "data": {
            "text/plain": [
              "[23, 25, 74, 105]"
            ]
          },
          "metadata": {},
          "execution_count": 31
        }
      ]
    },
    {
      "cell_type": "markdown",
      "source": [
        "## 課題5"
      ],
      "metadata": {
        "id": "QijnXk7UWAVC"
      }
    },
    {
      "cell_type": "markdown",
      "source": [
        "**FizzBuzz（フィズ・バズ）問題**という問題について解いていきます。\n",
        "\n",
        "もともとは、英語圏で長距離ドライブ中や飲み会の時に行われる言葉遊びです。"
      ],
      "metadata": {
        "id": "m7F47Q1mWCA6"
      }
    },
    {
      "cell_type": "markdown",
      "source": [
        "以下のような問題になります。\n",
        "\n",
        "1～Nまでの整数を順に出力しなさい。ただし、例外として以下のルールを守ること。\n",
        "\n",
        "* 3で割り切れる数字の場合はFizzを出力\n",
        "* 5で割り切れる数字の場合はBuzzを出力\n",
        "* 7で割り切れる数字の場合はJazzを出力\n",
        "* 複数条件が当てはまる場合は組み合わせて出力（ \"FizzBuzz\", \"FizzJazz\", \"BuzzJazz\" など）"
      ],
      "metadata": {
        "id": "fArw0VcNWgwZ"
      }
    },
    {
      "cell_type": "markdown",
      "source": [
        "ここでは N=100として、まずは一つのリストに  \n",
        "\"Fizz\" か \"Buzz\" か \"Jazz\" か \"組み合わさったもの\" か \"others\" を格納してください。\n",
        "\n",
        "その後、それぞれの要素の数をカウントし、ディクショナリの形で出力してください。"
      ],
      "metadata": {
        "id": "SYqkpYstWm7Z"
      }
    },
    {
      "cell_type": "markdown",
      "source": [
        "＜実行結果例＞  \n",
        "``` py\n",
        "{'Fizz': 23, 'Buzz': 12, 'Jazz': 8, 'FizzBuzz': 6, 'FizzJazz': 4, 'BuzzJazz': 2, 'others': 45}\n",
        "```"
      ],
      "metadata": {
        "id": "OqLuJTcWYzFt"
      }
    },
    {
      "cell_type": "code",
      "source": [
        "N=100\n",
        "a=[]\n",
        "b=[]\n",
        "c=[]\n",
        "d=[]\n",
        "e=[]\n",
        "f=[]\n",
        "g=[]\n",
        "e={}\n",
        "\n",
        "i=1\n",
        "while i<=N:\n",
        "  if i%3==0:\n",
        "    a.append(i)\n",
        "  elif i%5==0:\n",
        "    b.append(i)\n",
        "  elif i%7==0:\n",
        "    c.append(i)\n",
        "  i=i+1\n",
        "print()\n",
        "\n"
      ],
      "metadata": {
        "id": "BLYbI0E48o2G",
        "colab": {
          "base_uri": "https://localhost:8080/"
        },
        "outputId": "55dd599a-7e5f-4d40-e3ae-d89a872be956"
      },
      "execution_count": 71,
      "outputs": [
        {
          "output_type": "stream",
          "name": "stdout",
          "text": [
            "[5, 10, 20, 25, 35, 40, 50, 55, 65, 70, 80, 85, 95, 100]\n"
          ]
        }
      ]
    }
  ]
}