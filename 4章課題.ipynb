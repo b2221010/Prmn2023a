{
  "nbformat": 4,
  "nbformat_minor": 0,
  "metadata": {
    "colab": {
      "provenance": [],
      "authorship_tag": "ABX9TyOihBUUDJ/qaP07SxJRtYtK",
      "include_colab_link": true
    },
    "kernelspec": {
      "name": "python3",
      "display_name": "Python 3"
    },
    "language_info": {
      "name": "python"
    }
  },
  "cells": [
    {
      "cell_type": "markdown",
      "metadata": {
        "id": "view-in-github",
        "colab_type": "text"
      },
      "source": [
        "<a href=\"https://colab.research.google.com/github/b2221010/Prmn2023a/blob/main/4%E7%AB%A0%E8%AA%B2%E9%A1%8C.ipynb\" target=\"_parent\"><img src=\"https://colab.research.google.com/assets/colab-badge.svg\" alt=\"Open In Colab\"/></a>"
      ]
    },
    {
      "cell_type": "markdown",
      "source": [
        "課題1"
      ],
      "metadata": {
        "id": "Us3hciqHvw5l"
      }
    },
    {
      "cell_type": "code",
      "execution_count": 140,
      "metadata": {
        "colab": {
          "base_uri": "https://localhost:8080/"
        },
        "id": "MW8-FqUovq3I",
        "outputId": "0724a12f-488e-443a-e270-d3c3af8d4c90"
      },
      "outputs": [
        {
          "output_type": "stream",
          "name": "stdout",
          "text": [
            "['b2222750', 'b2221660', 'b2221170', 'b2222230', 'b2220870']\n"
          ]
        }
      ],
      "source": [
        "import random\n",
        "i=0\n",
        "gakuseki_list=[]\n",
        "\n",
        "while i<5:\n",
        "  a=random.randint(1,280)\n",
        "  b='b'\n",
        "  c=str(2220000+a*10)\n",
        "  gakuseki_list.append(b+c)\n",
        "  i=i+1\n",
        "\n",
        "print(gakuseki_list)"
      ]
    },
    {
      "cell_type": "markdown",
      "source": [
        "課題2"
      ],
      "metadata": {
        "id": "c20D5ivD0Nyc"
      }
    },
    {
      "cell_type": "code",
      "source": [
        "import random\n",
        "n_list=[]\n",
        "m_list=[]\n",
        "i=0\n",
        "while i<5:\n",
        "  a=0\n",
        "  a=random.randint(1,9)\n",
        "  n_list.append(a)\n",
        "\n",
        "  if n_list.count(a)==1:\n",
        "    i=i+1\n",
        "  else:\n",
        "    n_list.pop(i)\n",
        "    i=i\n",
        "\n",
        "i=0\n",
        "while i<5:\n",
        "  a=0\n",
        "  a=random.randint(1,9)\n",
        "  m_list.append(a)\n",
        "\n",
        "  if m_list.count(a)==1:\n",
        "    i=i+1\n",
        "  else:\n",
        "    m_list.pop(i)\n",
        "    i=i\n",
        "print(n_list,m_list)\n",
        "\n",
        "i=0\n",
        "sum_list=[]\n",
        "while i<5:\n",
        "  sum_list.append(n_list[i]+m_list[i])\n",
        "  i=i+1\n",
        "\n",
        "print('合計',sum_list)"
      ],
      "metadata": {
        "colab": {
          "base_uri": "https://localhost:8080/"
        },
        "id": "CsTw9LkH0Pqi",
        "outputId": "747c8aa2-18fd-41bf-8214-dc74c31c5c39"
      },
      "execution_count": 25,
      "outputs": [
        {
          "output_type": "stream",
          "name": "stdout",
          "text": [
            "[1, 2, 5, 4, 6] [4, 5, 3, 9, 7]\n",
            "合計 [5, 7, 8, 13, 13]\n"
          ]
        }
      ]
    },
    {
      "cell_type": "markdown",
      "source": [
        "課題3"
      ],
      "metadata": {
        "id": "CUmY4ZQ39LDv"
      }
    },
    {
      "cell_type": "code",
      "source": [
        "import random\n",
        "todohuken_list = [\n",
        "    '北海道', '青森県', '岩手県', '宮城県', '秋田県', '山形県', '福島県', '茨城県', '栃木県', '群馬県', \n",
        "    '埼玉県', '千葉県', '東京都', '神奈川県', '新潟県', '富山県', '石川県', '福井県', '山梨県', '長野県', \n",
        "    '岐阜県', '静岡県', '愛知県', '三重県', '滋賀県', '京都府', '大阪府', '兵庫県', '奈良県', '和歌山県', \n",
        "    '鳥取県', '島根県', '岡山県', '広島県', '山口県', '徳島県', '香川県', '愛媛県', '高知県',  '福岡県', \n",
        "    '佐賀県', '長崎県', '熊本県', '大分県', '宮崎県', '鹿児島県', '沖縄県',\n",
        "]\n",
        "\n",
        "random.shuffle(todohuken_list)\n",
        "print(todohuken_list)\n",
        "\n",
        "i=0\n",
        "j=0\n",
        "bunnkatu_list=[]\n",
        "while i<12:\n",
        "  j=0\n",
        "  bunnkatu_list.append(todohuken_list[:4])\n",
        "  i=i+1\n",
        "  while j<4 and i<12:\n",
        "   todohuken_list.pop(0)\n",
        "   j=j+1\n",
        "print(bunnkatu_list)\n",
        "\n",
        "\n",
        " \n"
      ],
      "metadata": {
        "colab": {
          "base_uri": "https://localhost:8080/"
        },
        "id": "u74rxBJj9NU7",
        "outputId": "8ac90869-cb2e-4929-9317-e63a8b26c206"
      },
      "execution_count": 79,
      "outputs": [
        {
          "output_type": "stream",
          "name": "stdout",
          "text": [
            "['岩手県', '茨城県', '香川県', '静岡県', '宮崎県', '千葉県', '大分県', '長崎県', '鹿児島県', '鳥取県', '沖縄県', '山口県', '奈良県', '栃木県', '広島県', '富山県', '徳島県', '三重県', '和歌山県', '岡山県', '山形県', '福井県', '青森県', '宮城県', '群馬県', '愛知県', '福島県', '大阪府', '東京都', '北海道', '福岡県', '佐賀県', '石川県', '兵庫県', '神奈川県', '埼玉県', '京都府', '秋田県', '熊本県', '岐阜県', '愛媛県', '新潟県', '高知県', '山梨県', '滋賀県', '島根県', '長野県']\n",
            "[['岩手県', '茨城県', '香川県', '静岡県'], ['宮崎県', '千葉県', '大分県', '長崎県'], ['鹿児島県', '鳥取県', '沖縄県', '山口県'], ['奈良県', '栃木県', '広島県', '富山県'], ['徳島県', '三重県', '和歌山県', '岡山県'], ['山形県', '福井県', '青森県', '宮城県'], ['群馬県', '愛知県', '福島県', '大阪府'], ['東京都', '北海道', '福岡県', '佐賀県'], ['石川県', '兵庫県', '神奈川県', '埼玉県'], ['京都府', '秋田県', '熊本県', '岐阜県'], ['愛媛県', '新潟県', '高知県', '山梨県'], ['滋賀県', '島根県', '長野県']]\n"
          ]
        }
      ]
    },
    {
      "cell_type": "markdown",
      "source": [
        "課題４"
      ],
      "metadata": {
        "id": "S9C-7KadKbmH"
      }
    },
    {
      "cell_type": "code",
      "source": [
        "university_list = [\n",
        "    \"Chitose,25\",\n",
        "    \"Hokudai,105\",\n",
        "    \"Muroran,74\",\n",
        "    \"Hakodate,23\",\n",
        "]\n",
        "print('元のデータ',university_list)\n",
        "n=len(university_list)\n",
        "a=[]\n",
        "b=[]\n",
        "c=[]\n",
        "\n",
        "i=0\n",
        "while i<n:\n",
        "  x=int(university_list[i].split(\",\")[1])\n",
        "  a.append(x)\n",
        "  b.append(x)\n",
        "  i=i+1\n",
        "print('年齢を抽出',a)\n",
        "a.sort()\n",
        "print('並び替え',a)\n",
        "\n",
        "i=0\n",
        "while i<n:\n",
        "  z=b.index(a[i])\n",
        "  c.append(university_list[z])\n",
        "  i=i+1\n",
        "print('文字とセット',c)  "
      ],
      "metadata": {
        "colab": {
          "base_uri": "https://localhost:8080/"
        },
        "id": "FSwUOZviKeIo",
        "outputId": "e0730ee3-dbd3-41b8-b83e-91b3a95f7a0a"
      },
      "execution_count": 139,
      "outputs": [
        {
          "output_type": "stream",
          "name": "stdout",
          "text": [
            "元のデータ ['Chitose,25', 'Hokudai,105', 'Muroran,74', 'Hakodate,23']\n",
            "年齢を抽出 [25, 105, 74, 23]\n",
            "並び替え [23, 25, 74, 105]\n",
            "文字とセット ['Hakodate,23', 'Chitose,25', 'Muroran,74', 'Hokudai,105']\n"
          ]
        }
      ]
    },
    {
      "cell_type": "markdown",
      "source": [
        "問題５"
      ],
      "metadata": {
        "id": "1Jabhte6zt-V"
      }
    },
    {
      "cell_type": "code",
      "source": [
        "#\"Fizz\"\n",
        "a=[]\n",
        "#\"Buzz\" \n",
        "b=[]\n",
        "#\"FizzBuzz\"\n",
        "c=[]\n",
        "#\"others\"\n",
        "d=[]\n",
        "\n",
        "i=1\n",
        "while i<101:\n",
        "  if i%3==0 and i%5==0:\n",
        "    c.append(i)\n",
        "  elif i%3==0:\n",
        "    a.append(i)\n",
        "  elif i%5==0:\n",
        "    b.append(i)\n",
        "  else:\n",
        "    d.append(i)\n",
        "  i=i+1\n",
        "\n",
        "print('FizzBuzzの数',len(c))\n",
        "print('Fizzの数',len(a))\n",
        "print('Buzzの数',len(b))\n",
        "print('othersの数',len(d))\n",
        "\n"
      ],
      "metadata": {
        "colab": {
          "base_uri": "https://localhost:8080/"
        },
        "id": "ypob1TkbzwWp",
        "outputId": "6419153f-8b15-4f10-95f9-e01c0b556a7b"
      },
      "execution_count": 137,
      "outputs": [
        {
          "output_type": "stream",
          "name": "stdout",
          "text": [
            "FizzBuzzの数 6\n",
            "Fizzの数 27\n",
            "Buzzの数 14\n",
            "othersの数 53\n"
          ]
        }
      ]
    }
  ]
}